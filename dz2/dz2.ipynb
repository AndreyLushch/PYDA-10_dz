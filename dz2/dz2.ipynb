{
 "cells": [
  {
   "cell_type": "markdown",
   "metadata": {},
   "source": [
    "**Задание 1**. Даны 2 строки: *long_phrase* и *short_phrase*. \n",
    "Напишите код, который проверяет действительно ли длинная фраза *long_phrase* длиннее короткой *short_phrase*. И выводит *True* или *False* в зависимости от результата сравнения."
   ]
  },
  {
   "cell_type": "code",
   "execution_count": 2,
   "metadata": {},
   "outputs": [],
   "source": [
    "long_phrase = 'Насколько проще было бы писать программы, если бы не заказчики'\n",
    "short_phrase = '640Кб должно хватить для любых задач. Билл Гейтс (по легенде)'"
   ]
  },
  {
   "cell_type": "code",
   "execution_count": 3,
   "metadata": {},
   "outputs": [
    {
     "name": "stdout",
     "output_type": "stream",
     "text": [
      "True\n"
     ]
    }
   ],
   "source": [
    "print(len(long_phrase) > len(short_phrase))"
   ]
  },
  {
   "cell_type": "markdown",
   "metadata": {},
   "source": [
    "**Задание 2**. Дано значение объема файла в байтах (*в мегабайте 2^20 байт*). Напишите перевод этого значения в мегабайты в формате: \"*Объем файла равен 213.68Mb*\"."
   ]
  },
  {
   "cell_type": "code",
   "execution_count": 10,
   "metadata": {},
   "outputs": [
    {
     "name": "stdout",
     "output_type": "stream",
     "text": [
      "Ввведите объём файла в байтах: 25698745231\n",
      "Объем файла равен 24508.23Mb\n"
     ]
    }
   ],
   "source": [
    "file_size = int(input('Ввведите объём файла в байтах: '))\n",
    "print('Объем файла равен ', round((file_size / 1024 / 1024), 2), 'Mb', sep='')"
   ]
  },
  {
   "cell_type": "markdown",
   "metadata": {},
   "source": [
    "**Задание 3**. Разработать приложение для определения знака зодиака по дате рождения. Пример:\n",
    "\n",
    "Введите месяц: март\n",
    "\n",
    "Введите число: 6\n",
    "\n",
    "Вывод:\n",
    "Рыбы"
   ]
  },
  {
   "cell_type": "code",
   "execution_count": 11,
   "metadata": {},
   "outputs": [
    {
     "name": "stdout",
     "output_type": "stream",
     "text": [
      "Введите месяц: декабрь\n",
      "Введите число: 9\n",
      "стрелец\n"
     ]
    }
   ],
   "source": [
    "monts_of_birth = input('Введите месяц: ')\n",
    "date_of_birth = int(input('Введите число: '))\n",
    "if monts_of_birth == 'январь':\n",
    "    if 1 <= date_of_birth <= 20:\n",
    "        print('козерог')\n",
    "    else:\n",
    "        print('водолей')\n",
    "elif monts_of_birth == 'февраль':\n",
    "    if 1 <= date_of_birth <= 18:\n",
    "        print('водолей')\n",
    "    else:\n",
    "        print('рыбы')\n",
    "elif monts_of_birth == 'март':\n",
    "    if 1 <= date_of_birth <= 20:\n",
    "        print('рыбы')\n",
    "    else:\n",
    "        print('овен')\n",
    "elif monts_of_birth == 'апрель':\n",
    "    if 1 <= date_of_birth <= 20:\n",
    "        print('овен')\n",
    "    else:\n",
    "        print('телец')\n",
    "elif monts_of_birth == 'май':\n",
    "    if 1 <= date_of_birth <= 21:\n",
    "        print('телец')\n",
    "    else:\n",
    "        print('близнецы')\n",
    "elif monts_of_birth == 'июнь':\n",
    "    if 1 <= date_of_birth <= 21:\n",
    "        print('близнецы')\n",
    "    else:\n",
    "        print('рак')\n",
    "elif monts_of_birth == 'июль':\n",
    "    if 1 <= date_of_birth <= 22:\n",
    "        print('рак')\n",
    "    else:\n",
    "        print('лев')\n",
    "elif monts_of_birth == 'август':\n",
    "    if 1 <= date_of_birth <= 23:\n",
    "        print('лев')\n",
    "    else:\n",
    "        print('дева')\n",
    "elif monts_of_birth == 'сентябрь':\n",
    "    if 1 <= date_of_birth <= 23:\n",
    "        print('дева')\n",
    "    else:\n",
    "        print('весы')\n",
    "elif monts_of_birth == 'октябрь':\n",
    "    if 1 <= date_of_birth <= 23:\n",
    "        print('весы')\n",
    "    else:\n",
    "        print('скорпион')\n",
    "elif monts_of_birth == 'ноябрь':\n",
    "    if 1 <= date_of_birth <= 22:\n",
    "        print('скорпион')\n",
    "    else:\n",
    "        print('стрелец')\n",
    "elif monts_of_birth == 'декабрь':\n",
    "    if 1 <= date_of_birth <= 21:\n",
    "        print('стрелец')\n",
    "    else:\n",
    "        print('козерог')\n",
    "else:\n",
    "    print('Неверный ввод данных')"
   ]
  },
  {
   "cell_type": "markdown",
   "metadata": {},
   "source": [
    "**Задание 4**. Нужно разработать приложение для финансового планирования.\n",
    "Приложение учитывает сколько уходит на ипотеку, \"на жизнь\" и сколько нужно отложить на пенсию.\n",
    "Пользователь вводит:\n",
    "- заработанную плату в месяц.\n",
    "- сколько процентов от ЗП уходит на ипотеку.\n",
    "- сколько процентов от ЗП уходит \"на жизнь\".\n",
    "- сколько раз приходит премия в год.\n",
    "\n",
    "Остальная часть заработанной платы откладывается на пенсию.\n",
    "\n",
    "Также пользователю приходит премия в размере зарплаты, от которой половина уходит на отпуск, а вторая половина откладывается.\n",
    "\n",
    "Программа должна учитывать сколько премий было в год.\n",
    "\n",
    "Нужно вывести сколько денег тратит пользователь на ипотеку и сколько он накопит за год.\n",
    "\n",
    "Пример:\n",
    "\n",
    "Введите заработанную плату в месяц: 100000\n",
    "\n",
    "Введите сколько процентов уходит на ипотеку: 30\n",
    "\n",
    "Введите сколько процентов уходит на жизнь: 50\n",
    "\n",
    "Введите количество премий за год: 2\n",
    "\n",
    "Вывод:\n",
    "На ипотеку было потрачено: 360000 рублей\n",
    "Было накоплено: 340000 рублей"
   ]
  },
  {
   "cell_type": "code",
   "execution_count": 13,
   "metadata": {},
   "outputs": [
    {
     "name": "stdout",
     "output_type": "stream",
     "text": [
      "Введите заработанную плату в месяц: 100000\n",
      "Введите сколько процентов уходит на ипотеку: 30\n",
      "Введите сколько процентов уходит на жизнь: 50\n",
      "Введите количество премий за год: 2\n",
      "На ипотеку было потрачено: 360000 рублей. Было накоплено: 340000 рублей.\n"
     ]
    }
   ],
   "source": [
    "wage = int(input('Введите заработанную плату в месяц: '))\n",
    "mortgage_perc = int(input('Введите сколько процентов уходит на ипотеку: '))\n",
    "life_perc = int(input('Введите сколько процентов уходит на жизнь: '))\n",
    "number_premiums = int(input('Введите количество премий за год: '))\n",
    "mortgage = int(wage * mortgage_perc / 100 * 12)\n",
    "pension = int(wage * (100 - (mortgage_perc + life_perc)) / 100 * 12 + (wage * number_premiums / 2))\n",
    "print('На ипотеку было потрачено:', mortgage, 'рублей. Было накоплено:', pension, 'рублей.')"
   ]
  },
  {
   "cell_type": "code",
   "execution_count": null,
   "metadata": {},
   "outputs": [],
   "source": []
  }
 ],
 "metadata": {
  "kernelspec": {
   "display_name": "Python 3",
   "language": "python",
   "name": "python3"
  },
  "language_info": {
   "codemirror_mode": {
    "name": "ipython",
    "version": 3
   },
   "file_extension": ".py",
   "mimetype": "text/x-python",
   "name": "python",
   "nbconvert_exporter": "python",
   "pygments_lexer": "ipython3",
   "version": "3.7.6"
  }
 },
 "nbformat": 4,
 "nbformat_minor": 2
}
